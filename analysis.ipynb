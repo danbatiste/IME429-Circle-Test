{
 "cells": [
  {
   "cell_type": "code",
   "execution_count": 2,
   "metadata": {},
   "outputs": [
    {
     "name": "stdout",
     "output_type": "stream",
     "text": [
      "{'1651173731': 'comp1_1651173731.csv', '1651174140': 'comp1_1651174140.csv', '1651174244': 'comp1_1651174244.csv', '1651174316': 'comp1_1651174316.csv', '1651174376': 'comp1_1651174376.csv', '1651174477': 'comp1_1651174477.csv', '1651174634': 'comp1_1651174634.csv', '1651174729': 'comp1_1651174729.csv', '1651176011': 'comp1_1651176011.csv', '1651176322': 'comp1_1651176322.csv', '1651176556': 'comp1_1651176556.csv', '1651176896': 'comp1_1651176896.csv', '1651177208': 'comp1_1651177208.csv', '1651177349': 'comp1_1651177349.csv', '1651177412': 'comp1_1651177412.csv', '1651177469': 'comp1_1651177469.csv', '1651177572': 'comp1_1651177572.csv', '1651177648': 'comp1_1651177648.csv', '1651177694': 'comp1_1651177694.csv', '1651177751': 'comp1_1651177751.csv', '1651177890': 'comp1_1651177890.csv', '1651178138': 'comp1_1651178138.csv', '1651178210': 'comp1_1651178210.csv', '1651178312': 'comp1_1651178312.csv', '1651178396': 'comp1_1651178396.csv', '1651178451': 'comp1_1651178451.csv', '1651178502': 'comp1_1651178502.csv', '1651179902': 'comp1_1651179902.csv', '1651179999': 'comp1_1651179999.csv', '1651180056': 'comp1_1651180056.csv', '1651180148': 'comp1_1651180148.csv', '1651180300': 'comp1_1651180300.csv', '1651180363': 'comp1_1651180363.csv', '1651180717': 'comp1_1651180717.csv', '1651181086': 'comp1_1651181086.csv', '1651181395': 'comp1_1651181395.csv', '1651181517': 'comp1_1651181517.csv', '21651174274': 'comp1_1651174274.csv', '21651174934': 'comp2_1651174934.csv', '21651175039': 'comp2_1651175039.csv', '21651175152': 'comp2_1651175152.csv', '21651175250': 'comp2_1651175250.csv', '21651175371': 'comp2_1651175371.csv', '21651175477': 'comp2_1651175477.csv', '21651175583': 'comp2_1651175583.csv', '21651175649': 'comp2_1651175649.csv', '21651175753': 'comp2_1651175753.csv', '21651175839': 'comp2_1651175839.csv', '21651176132': 'comp2_1651176132.csv'}\n"
     ]
    }
   ],
   "source": [
    "import pandas as pd\n",
    "import os\n",
    "from matplotlib import pyplot as plt\n",
    "import matplotlib.spines as spines\n",
    "\n",
    "folder = \"experiments/\"\n",
    "folder2 = \"comp2_experiments/\"\n",
    "\n",
    "# Get results from comp 1 folder\n",
    "paths = os.listdir(folder)\n",
    "survey_paths = {path.split(\"_\")[1] : path for path in paths if \"survey\" in path}\n",
    "experiment_results_paths = {path.split(\"_\")[1].split('.')[0] : path for path in paths if not \"survey\" in path}\n",
    "\n",
    "# Get results from comp 2 folder\n",
    "paths_comp2 = os.listdir(folder2)\n",
    "experiment_results_paths_2 = {'2' + path.split(\"_\")[1].split('.')[0] : path for path in paths_comp2 if not \"survey\" in path}\n",
    "experiment_results_paths.update(experiment_results_paths_2)\n",
    "\n",
    "experiment_ids = list(experiment_results_paths.keys())\n",
    "print(experiment_results_paths)"
   ]
  },
  {
   "cell_type": "code",
   "execution_count": 3,
   "metadata": {},
   "outputs": [
    {
     "name": "stdout",
     "output_type": "stream",
     "text": [
      "{1: 19, 2: 12, 3: 18}\n"
     ]
    }
   ],
   "source": [
    "# Put all surveys and results into separate dictionaries\n",
    "surveys = {}\n",
    "results = {}\n",
    "ids = {\n",
    "    1 : 0,\n",
    "    2 : 0,\n",
    "    3 : 0\n",
    "}\n",
    "for id in experiment_ids:\n",
    "    survey = None\n",
    "    if id in survey_paths:\n",
    "        survey_path = survey_paths[id]\n",
    "        df_survey = pd.read_csv('experiments/' + survey_path)\n",
    "        surveys.update({id : df_survey})\n",
    "    if id in experiment_ids:\n",
    "        results_path = experiment_results_paths[id]\n",
    "        if id[0] == '1':\n",
    "            df_results = pd.read_csv('experiments/' + results_path)\n",
    "        elif id[0] == '2':\n",
    "            df_results = pd.read_csv(\"comp2_experiments/\" + results_path)\n",
    "\n",
    "        # Count slow, med, fast\n",
    "        speed = df_results.iloc[0][\"dpi_setting\"]\n",
    "        ids[speed] += 1\n",
    "\n",
    "        # Add a new column for time between circle clicks\n",
    "        df_results['shifted_time'] = df_results['time_clicked'].transform(lambda x: x.shift(periods=1, fill_value=0))\n",
    "        shift_time = lambda x: x.time_clicked - x.shifted_time\n",
    "        df_results['delta_t'] = df_results.apply(shift_time, axis=1)\n",
    "        df_results = df_results.drop('shifted_time', axis=1)\n",
    "\n",
    "        \n",
    "        results.update({id : df_results})\n",
    "print(ids)\n"
   ]
  },
  {
   "cell_type": "code",
   "execution_count": 4,
   "metadata": {},
   "outputs": [],
   "source": [
    "old_backup = \"\"\"\n",
    "### Analysis of results first (then do surveys)\n",
    "\n",
    "## Do some cleaning of dfs\n",
    "\n",
    "for id in results.keys():\n",
    "    # Drop unnamed column\n",
    "\n",
    "    # TODO Make the time between clicks about differences NOT about position of t\n",
    "\n",
    "    # TODO compute accuracy % based on distance from radius of circle (if x <= r, 100%; if x > r, r/x)\n",
    "    f = lambda x: x.circle_radius/x.click_distance_from_circle_center\n",
    "    results[id]['accuracy'] = results[id].apply(f, axis=1)\n",
    "\n",
    "\n",
    "\n",
    "## Combine all dfs into one df\n",
    "all_results_df = pd.concat(results)\n",
    "all_results_df = all_results_df.drop('Unnamed: 0', axis=1)\n",
    "print(all_results_df)\n",
    "\"\"\""
   ]
  },
  {
   "cell_type": "code",
   "execution_count": 5,
   "metadata": {},
   "outputs": [
    {
     "data": {
      "text/html": [
       "<div>\n",
       "<style scoped>\n",
       "    .dataframe tbody tr th:only-of-type {\n",
       "        vertical-align: middle;\n",
       "    }\n",
       "\n",
       "    .dataframe tbody tr th {\n",
       "        vertical-align: top;\n",
       "    }\n",
       "\n",
       "    .dataframe thead th {\n",
       "        text-align: right;\n",
       "    }\n",
       "</style>\n",
       "<table border=\"1\" class=\"dataframe\">\n",
       "  <thead>\n",
       "    <tr style=\"text-align: right;\">\n",
       "      <th></th>\n",
       "      <th></th>\n",
       "      <th>delta_t</th>\n",
       "      <th>t</th>\n",
       "    </tr>\n",
       "  </thead>\n",
       "  <tbody>\n",
       "    <tr>\n",
       "      <th rowspan=\"10\" valign=\"top\">1651173731</th>\n",
       "      <th>0</th>\n",
       "      <td>1.486618</td>\n",
       "      <td>1.486618</td>\n",
       "    </tr>\n",
       "    <tr>\n",
       "      <th>1</th>\n",
       "      <td>1.484163</td>\n",
       "      <td>2.970781</td>\n",
       "    </tr>\n",
       "    <tr>\n",
       "      <th>2</th>\n",
       "      <td>1.149053</td>\n",
       "      <td>4.119834</td>\n",
       "    </tr>\n",
       "    <tr>\n",
       "      <th>3</th>\n",
       "      <td>1.066986</td>\n",
       "      <td>5.186820</td>\n",
       "    </tr>\n",
       "    <tr>\n",
       "      <th>4</th>\n",
       "      <td>0.773116</td>\n",
       "      <td>5.959936</td>\n",
       "    </tr>\n",
       "    <tr>\n",
       "      <th>5</th>\n",
       "      <td>1.089438</td>\n",
       "      <td>7.049374</td>\n",
       "    </tr>\n",
       "    <tr>\n",
       "      <th>6</th>\n",
       "      <td>0.538733</td>\n",
       "      <td>7.588107</td>\n",
       "    </tr>\n",
       "    <tr>\n",
       "      <th>7</th>\n",
       "      <td>0.355132</td>\n",
       "      <td>7.943239</td>\n",
       "    </tr>\n",
       "    <tr>\n",
       "      <th>8</th>\n",
       "      <td>0.694108</td>\n",
       "      <td>8.637347</td>\n",
       "    </tr>\n",
       "    <tr>\n",
       "      <th>9</th>\n",
       "      <td>0.990430</td>\n",
       "      <td>9.627777</td>\n",
       "    </tr>\n",
       "    <tr>\n",
       "      <th rowspan=\"10\" valign=\"top\">1651174140</th>\n",
       "      <th>0</th>\n",
       "      <td>2.074000</td>\n",
       "      <td>2.074000</td>\n",
       "    </tr>\n",
       "    <tr>\n",
       "      <th>1</th>\n",
       "      <td>1.285695</td>\n",
       "      <td>3.359695</td>\n",
       "    </tr>\n",
       "    <tr>\n",
       "      <th>2</th>\n",
       "      <td>0.891973</td>\n",
       "      <td>4.251669</td>\n",
       "    </tr>\n",
       "    <tr>\n",
       "      <th>3</th>\n",
       "      <td>0.430565</td>\n",
       "      <td>4.682234</td>\n",
       "    </tr>\n",
       "    <tr>\n",
       "      <th>4</th>\n",
       "      <td>0.619025</td>\n",
       "      <td>5.301260</td>\n",
       "    </tr>\n",
       "    <tr>\n",
       "      <th>5</th>\n",
       "      <td>0.734981</td>\n",
       "      <td>6.036240</td>\n",
       "    </tr>\n",
       "    <tr>\n",
       "      <th>6</th>\n",
       "      <td>0.636026</td>\n",
       "      <td>6.672266</td>\n",
       "    </tr>\n",
       "    <tr>\n",
       "      <th>7</th>\n",
       "      <td>0.498812</td>\n",
       "      <td>7.171078</td>\n",
       "    </tr>\n",
       "    <tr>\n",
       "      <th>8</th>\n",
       "      <td>0.596253</td>\n",
       "      <td>7.767331</td>\n",
       "    </tr>\n",
       "    <tr>\n",
       "      <th>9</th>\n",
       "      <td>0.566000</td>\n",
       "      <td>8.333331</td>\n",
       "    </tr>\n",
       "  </tbody>\n",
       "</table>\n",
       "</div>"
      ],
      "text/plain": [
       "               delta_t         t\n",
       "1651173731 0  1.486618  1.486618\n",
       "           1  1.484163  2.970781\n",
       "           2  1.149053  4.119834\n",
       "           3  1.066986  5.186820\n",
       "           4  0.773116  5.959936\n",
       "           5  1.089438  7.049374\n",
       "           6  0.538733  7.588107\n",
       "           7  0.355132  7.943239\n",
       "           8  0.694108  8.637347\n",
       "           9  0.990430  9.627777\n",
       "1651174140 0  2.074000  2.074000\n",
       "           1  1.285695  3.359695\n",
       "           2  0.891973  4.251669\n",
       "           3  0.430565  4.682234\n",
       "           4  0.619025  5.301260\n",
       "           5  0.734981  6.036240\n",
       "           6  0.636026  6.672266\n",
       "           7  0.498812  7.171078\n",
       "           8  0.596253  7.767331\n",
       "           9  0.566000  8.333331"
      ]
     },
     "execution_count": 5,
     "metadata": {},
     "output_type": "execute_result"
    }
   ],
   "source": [
    "### Analysis of results first (then do surveys)\n",
    "\n",
    "## Combine all dfs into one df\n",
    "all_results_df = pd.concat(results)\n",
    "\n",
    "## Do some cleaning of dfs\n",
    "\n",
    "# Drop unnamed column and problematic entries\n",
    "all_results_df = all_results_df.drop('Unnamed: 0', axis=1)\n",
    "all_results_df = all_results_df.drop(('1651174316', 10))\n",
    "\n",
    "# TODO Make the time between clicks about differences NOT about position of t\n",
    "#all_results_df[['shifted_time']] = all_results_df[['time_clicked']].transform(lambda x: x.shift(periods=1, fill_value=0))\n",
    "#shift_time = lambda x: x.time_clicked - x.shifted_time\n",
    "#all_results_df[['delta_t']] = all_results_df.apply(shift_time, axis=1)\n",
    "#all_results_df = all_results_df.drop('shifted_time', axis=1)\n",
    "\n",
    "# TODO compute accuracy % based on distance from radius of circle (if x <= r, 100%; if x > r, r/x)\n",
    "f = lambda x: (lambda r, c: 1 if r >= c else r/c)(float(x.circle_radius), float(x.click_distance_from_circle_center))\n",
    "all_results_df[['accuracy']] = all_results_df.apply(f, axis=1)\n",
    "\n",
    "\n",
    "# Rename \"time_clicked\" to t\n",
    "all_results_df[['t']] = all_results_df[['time_clicked']]\n",
    "all_results_df = all_results_df.drop('time_clicked', axis=1)\n",
    "\n",
    "\n",
    "all_results_df[['delta_t', \"t\"]].head(20)"
   ]
  },
  {
   "cell_type": "code",
   "execution_count": 6,
   "metadata": {},
   "outputs": [
    {
     "name": "stdout",
     "output_type": "stream",
     "text": [
      "DPI SETTING 1\n",
      "\n",
      "<pandas.core.groupby.generic.DataFrameGroupBy object at 0x000002077F634408>\n",
      "DPI SETTING 2\n",
      "\n",
      "<pandas.core.groupby.generic.DataFrameGroupBy object at 0x000002077F8F9A88>\n",
      "DPI SETTING 3\n",
      "\n",
      "<pandas.core.groupby.generic.DataFrameGroupBy object at 0x000002077F8FDC48>\n"
     ]
    }
   ],
   "source": [
    "# Accuracy and speed readout for all dpi settings\n",
    "accuracies = []\n",
    "times = []\n",
    "for i in [1, 2, 3]:\n",
    "    columns = ['dpi_setting', 'accuracy', 'delta_t']\n",
    "    print(f\"DPI SETTING {i}\")\n",
    "    dpi_mean_results = all_results_df[columns].query(f\"dpi_setting == {i}\").mean()\n",
    "    #print(dpi_mean_results)\n",
    "    print()\n",
    "    accuracies.append(dpi_mean_results[\"accuracy\"])\n",
    "    times.append(dpi_mean_results[\"delta_t\"])\n",
    "\n",
    "    dpi_results = all_results_df[['dpi_setting']].groupby('dpi_setting')\n",
    "    print(dpi_results)"
   ]
  },
  {
   "cell_type": "code",
   "execution_count": 7,
   "metadata": {},
   "outputs": [
    {
     "data": {
      "text/plain": [
       "[Text(0, -18, '97.6%'), Text(0, -18, '96.2%'), Text(0, -18, '90.2%')]"
      ]
     },
     "execution_count": 7,
     "metadata": {},
     "output_type": "execute_result"
    },
    {
     "data": {
      "image/png": "[encoded data removed]",
      "text/plain": [
       "<Figure size 432x288 with 1 Axes>"
      ]
     },
     "metadata": {
      "needs_background": "light"
     },
     "output_type": "display_data"
    }
   ],
   "source": [
    "\n",
    "# Plot info\n",
    "dpis = [\"slow\", \"medium\", \"fast\"]\n",
    "\n",
    "# Plot accuracies\n",
    "plt.tick_params(left=False, top=False, labelleft=False)\n",
    "\n",
    "plt.title(\"Accuracy vs Mouse DPI/Speed\")\n",
    "plt.ylabel(\"Average accuracy\")\n",
    "accuracy_labels = [f\"{x*100:0.1f}%\" for x in accuracies]\n",
    "\n",
    "accuracy_bar = plt.bar(dpis, accuracies)\n",
    "plt.bar_label(accuracy_bar, padding=-18, color='w', fontsize=14, labels=accuracy_labels)\n",
    "\n"
   ]
  },
  {
   "cell_type": "code",
   "execution_count": 8,
   "metadata": {},
   "outputs": [
    {
     "data": {
      "text/plain": [
       "[Text(0, -18, '2.4%'), Text(0, -18, '3.8%'), Text(0, -18, '9.8%')]"
      ]
     },
     "execution_count": 8,
     "metadata": {},
     "output_type": "execute_result"
    },
    {
     "data": {
      "image/png": "[encoded data removed]",
      "text/plain": [
       "<Figure size 432x288 with 1 Axes>"
      ]
     },
     "metadata": {
      "needs_background": "light"
     },
     "output_type": "display_data"
    }
   ],
   "source": [
    "# Plot error rate\n",
    "plt.title(\"Error Rate vs Mouse DPI/Speed\")\n",
    "plt.ylabel(\"Error Rate\")\n",
    "plt.tick_params(left=False, top=False, labelleft=False)\n",
    "errors = [1-acc for acc in accuracies]\n",
    "errors_labels = [f\"{x*100:0.1f}%\" for x in errors]\n",
    "colors = ['g', 'orange', 'tab:red']\n",
    "errors_bar = plt.bar(dpis, errors, color=colors)\n",
    "plt.bar_label(errors_bar, padding=-18, color='w', fontsize=14, labels=errors_labels)\n"
   ]
  },
  {
   "cell_type": "code",
   "execution_count": 9,
   "metadata": {},
   "outputs": [
    {
     "data": {
      "text/plain": [
       "[Text(0, -18, '0.92s'), Text(0, -18, '0.76s'), Text(0, -18, '0.77s')]"
      ]
     },
     "execution_count": 9,
     "metadata": {},
     "output_type": "execute_result"
    },
    {
     "data": {
      "image/png": "[encoded data removed]",
      "text/plain": [
       "<Figure size 432x288 with 1 Axes>"
      ]
     },
     "metadata": {
      "needs_background": "light"
     },
     "output_type": "display_data"
    }
   ],
   "source": [
    "plt.title(\"Time to Click Circle vs Mouse DPI/Speed\")\n",
    "plt.ylabel(\"Average Time (sec)\")\n",
    "plt.tick_params(left=False, top=False, labelleft=False)\n",
    "colors = ['tab:orange', 'green', 'green']\n",
    "time_labels = [f\"{x:0.2f}s\" for x in times]\n",
    "time_bar = plt.bar(dpis, times, color=colors)\n",
    "plt.bar_label(time_bar, padding=-18, color='w', fontsize=14, labels=time_labels)\n",
    "\n"
   ]
  },
  {
   "cell_type": "code",
   "execution_count": 10,
   "metadata": {},
   "outputs": [
    {
     "data": {
      "text/plain": [
       "[Text(0, -18, '10.89'), Text(0, -18, '13.11'), Text(0, -18, '13.06')]"
      ]
     },
     "execution_count": 10,
     "metadata": {},
     "output_type": "execute_result"
    },
    {
     "data": {
      "image/png": "[encoded data removed]",
      "text/plain": [
       "<Figure size 432x288 with 1 Axes>"
      ]
     },
     "metadata": {
      "needs_background": "light"
     },
     "output_type": "display_data"
    }
   ],
   "source": [
    "plt.title(\"Average # of Circles Clicked vs Mouse DPI/Speed\")\n",
    "plt.ylabel(\"Circles Clicked)\")\n",
    "plt.tick_params(left=False, top=False, labelleft=False)\n",
    "circles_clicked = [10/t for t in times]\n",
    "circles_clicked_labels = [f\"{x:0.2f}\" for x in circles_clicked]\n",
    "circles_clicked_bar = plt.bar(dpis, circles_clicked, color=colors)\n",
    "plt.bar_label(circles_clicked_bar, padding=-18, color='w', fontsize=14, labels=circles_clicked_labels)"
   ]
  },
  {
   "cell_type": "code",
   "execution_count": 15,
   "metadata": {},
   "outputs": [
    {
     "data": {
      "text/html": [
       "<div>\n",
       "<style scoped>\n",
       "    .dataframe tbody tr th:only-of-type {\n",
       "        vertical-align: middle;\n",
       "    }\n",
       "\n",
       "    .dataframe tbody tr th {\n",
       "        vertical-align: top;\n",
       "    }\n",
       "\n",
       "    .dataframe thead th {\n",
       "        text-align: right;\n",
       "    }\n",
       "</style>\n",
       "<table border=\"1\" class=\"dataframe\">\n",
       "  <thead>\n",
       "    <tr style=\"text-align: right;\">\n",
       "      <th></th>\n",
       "      <th>dpi_setting</th>\n",
       "      <th>computer_no</th>\n",
       "      <th>delta_t</th>\n",
       "      <th>accuracy</th>\n",
       "    </tr>\n",
       "  </thead>\n",
       "  <tbody>\n",
       "    <tr>\n",
       "      <th>0</th>\n",
       "      <td>1</td>\n",
       "      <td>1</td>\n",
       "      <td>1.486618</td>\n",
       "      <td>1.0</td>\n",
       "    </tr>\n",
       "    <tr>\n",
       "      <th>1</th>\n",
       "      <td>1</td>\n",
       "      <td>1</td>\n",
       "      <td>1.484163</td>\n",
       "      <td>1.0</td>\n",
       "    </tr>\n",
       "    <tr>\n",
       "      <th>2</th>\n",
       "      <td>1</td>\n",
       "      <td>1</td>\n",
       "      <td>1.149053</td>\n",
       "      <td>1.0</td>\n",
       "    </tr>\n",
       "    <tr>\n",
       "      <th>3</th>\n",
       "      <td>1</td>\n",
       "      <td>1</td>\n",
       "      <td>1.066986</td>\n",
       "      <td>1.0</td>\n",
       "    </tr>\n",
       "    <tr>\n",
       "      <th>4</th>\n",
       "      <td>1</td>\n",
       "      <td>1</td>\n",
       "      <td>0.773116</td>\n",
       "      <td>1.0</td>\n",
       "    </tr>\n",
       "  </tbody>\n",
       "</table>\n",
       "</div>"
      ],
      "text/plain": [
       "   dpi_setting  computer_no   delta_t  accuracy\n",
       "0            1            1  1.486618       1.0\n",
       "1            1            1  1.484163       1.0\n",
       "2            1            1  1.149053       1.0\n",
       "3            1            1  1.066986       1.0\n",
       "4            1            1  0.773116       1.0"
      ]
     },
     "execution_count": 15,
     "metadata": {},
     "output_type": "execute_result"
    }
   ],
   "source": [
    "columns = \"dpi_setting computer_no delta_t accuracy\".split()\n",
    "flattened_df = all_results_df.droplevel(0)\n",
    "flattened_df[columns].head()"
   ]
  },
  {
   "cell_type": "code",
   "execution_count": null,
   "metadata": {},
   "outputs": [],
   "source": []
  }
 ],
 "metadata": {
  "interpreter": {
   "hash": "c4a1fdbf7bc3b38def1652e5d7cd57826424323df7e86ba5e71b96ca4c7e5e08"
  },
  "kernelspec": {
   "display_name": "Python 3.7.9 64-bit",
   "language": "python",
   "name": "python3"
  },
  "language_info": {
   "codemirror_mode": {
    "name": "ipython",
    "version": 3
   },
   "file_extension": ".py",
   "mimetype": "text/x-python",
   "name": "python",
   "nbconvert_exporter": "python",
   "pygments_lexer": "ipython3",
   "version": "3.7.9"
  },
  "orig_nbformat": 4
 },
 "nbformat": 4,
 "nbformat_minor": 2
}
